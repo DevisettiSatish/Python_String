{
 "cells": [
  {
   "cell_type": "code",
   "execution_count": 4,
   "id": "c4e33616",
   "metadata": {},
   "outputs": [],
   "source": [
    "# String is immutable data type\n",
    "# It is Represented by Single quote,Double quote ,Triple quote\n",
    "# python is a line by line Excuction"
   ]
  },
  {
   "cell_type": "code",
   "execution_count": 9,
   "id": "404ad24e",
   "metadata": {},
   "outputs": [
    {
     "name": "stdout",
     "output_type": "stream",
     "text": [
      "i am learing Full stack Python course\n"
     ]
    }
   ],
   "source": [
    "course='i am learing Full stack Python course' # save in memory\n",
    "print(course) # calling the memory"
   ]
  },
  {
   "cell_type": "code",
   "execution_count": 8,
   "id": "a8664af5",
   "metadata": {},
   "outputs": [
    {
     "name": "stdout",
     "output_type": "stream",
     "text": [
      "i am learing full stack java course\n"
     ]
    }
   ],
   "source": [
    "course1=\"i am learing full stack java course\"\n",
    "print(course1)"
   ]
  },
  {
   "cell_type": "code",
   "execution_count": 40,
   "id": "d9fa5752",
   "metadata": {},
   "outputs": [
    {
     "name": "stdout",
     "output_type": "stream",
     "text": [
      "l\n",
      "n\n"
     ]
    }
   ],
   "source": [
    "# forward index 0 to 1\n",
    "\n",
    "course2=\"\"\"i am learing data Science course\"\"\"  # save in memory\n",
    "print(course2[5])\n",
    "print(course2[10])  # calling the memory\n"
   ]
  },
  {
   "cell_type": "code",
   "execution_count": 41,
   "id": "4b21ea50",
   "metadata": {},
   "outputs": [
    {
     "name": "stdout",
     "output_type": "stream",
     "text": [
      "o\n",
      "n\n"
     ]
    }
   ],
   "source": [
    "# backward index -1\n",
    "\n",
    "course2=\"\"\"i am learing data Science course\"\"\"\n",
    "print(course2[-5])\n",
    "print(course2[-10])\n"
   ]
  },
  {
   "cell_type": "code",
   "execution_count": 42,
   "id": "ad63750b",
   "metadata": {},
   "outputs": [
    {
     "name": "stdout",
     "output_type": "stream",
     "text": [
      "i am learing data Science course\n"
     ]
    }
   ],
   "source": [
    "course2=\"\"\"i am learing data Science course\"\"\"\n",
    "print(course2)"
   ]
  },
  {
   "cell_type": "code",
   "execution_count": 11,
   "id": "3d66d385",
   "metadata": {},
   "outputs": [
    {
     "name": "stdout",
     "output_type": "stream",
     "text": [
      "visett\n"
     ]
    }
   ],
   "source": [
    "# Slicing function is used to Specific Range of Characters\n",
    "\n",
    "a='devisetti satish'\n",
    "print(a[2:8])"
   ]
  },
  {
   "cell_type": "code",
   "execution_count": 12,
   "id": "e3af9e1f",
   "metadata": {},
   "outputs": [
    {
     "name": "stdout",
     "output_type": "stream",
     "text": [
      "setti \n"
     ]
    }
   ],
   "source": [
    "print(a[4:10])"
   ]
  },
  {
   "cell_type": "code",
   "execution_count": 13,
   "id": "f00658a4",
   "metadata": {},
   "outputs": [
    {
     "name": "stdout",
     "output_type": "stream",
     "text": [
      "Data Science\n"
     ]
    }
   ],
   "source": [
    "p=\"Data Science\"\n",
    "print(p[:])"
   ]
  },
  {
   "cell_type": "code",
   "execution_count": 43,
   "id": "f4465a2c",
   "metadata": {},
   "outputs": [
    {
     "name": "stdout",
     "output_type": "stream",
     "text": [
      "krnkmr\n"
     ]
    }
   ],
   "source": [
    "# skipping\n",
    "a = 'kiran kumar'\n",
    "print(a[::2])"
   ]
  },
  {
   "cell_type": "code",
   "execution_count": 44,
   "id": "cb4ab94b",
   "metadata": {},
   "outputs": [
    {
     "name": "stdout",
     "output_type": "stream",
     "text": [
      "rmknrk\n"
     ]
    }
   ],
   "source": [
    "a = 'kiran kumar'\n",
    "print(a[::-2])"
   ]
  },
  {
   "cell_type": "code",
   "execution_count": 15,
   "id": "e9954104",
   "metadata": {},
   "outputs": [
    {
     "name": "stdout",
     "output_type": "stream",
     "text": [
      "i am going to pune\n"
     ]
    }
   ],
   "source": [
    "# Bulit in Functions\n",
    "# lower\n",
    "\n",
    "x='I am Going to pune'\n",
    "print(x.lower())"
   ]
  },
  {
   "cell_type": "code",
   "execution_count": 16,
   "id": "dcd2b247",
   "metadata": {},
   "outputs": [
    {
     "name": "stdout",
     "output_type": "stream",
     "text": [
      "FULL STACK PYTHON\n"
     ]
    }
   ],
   "source": [
    "#upper\n",
    "\n",
    "y='FULL stack python'\n",
    "print(y.upper())"
   ]
  },
  {
   "cell_type": "code",
   "execution_count": 17,
   "id": "a2ddf50e",
   "metadata": {},
   "outputs": [
    {
     "name": "stdout",
     "output_type": "stream",
     "text": [
      "Data analysis\n"
     ]
    }
   ],
   "source": [
    "# capitalize\n",
    "\n",
    "z='data analysis'\n",
    "print(z.capitalize())"
   ]
  },
  {
   "cell_type": "code",
   "execution_count": 18,
   "id": "ab7f74b9",
   "metadata": {},
   "outputs": [
    {
     "name": "stdout",
     "output_type": "stream",
     "text": [
      "Data Analysis\n"
     ]
    }
   ],
   "source": [
    "# title\n",
    "\n",
    "R='data analysis'\n",
    "print(R.title())"
   ]
  },
  {
   "cell_type": "code",
   "execution_count": 22,
   "id": "68cec2ea",
   "metadata": {},
   "outputs": [
    {
     "name": "stdout",
     "output_type": "stream",
     "text": [
      "True\n",
      "False\n"
     ]
    }
   ],
   "source": [
    "# islower function Return Boolean type(true or False)\n",
    "\n",
    "P='satish'\n",
    "Q='DEVIsetti'\n",
    "print(P.islower())\n",
    "print(Q.islower())\n",
    "\n"
   ]
  },
  {
   "cell_type": "code",
   "execution_count": 23,
   "id": "f3552308",
   "metadata": {},
   "outputs": [
    {
     "name": "stdout",
     "output_type": "stream",
     "text": [
      "True\n",
      "False\n"
     ]
    }
   ],
   "source": [
    "# isupper function Return Boolean type(true or False)\n",
    "\n",
    "\n",
    "P='SATISH'\n",
    "Q='devisetti'\n",
    "print(P.isupper())\n",
    "print(Q.isupper())"
   ]
  },
  {
   "cell_type": "code",
   "execution_count": 24,
   "id": "698e7c7c",
   "metadata": {},
   "outputs": [
    {
     "name": "stdout",
     "output_type": "stream",
     "text": [
      "True\n",
      "False\n"
     ]
    }
   ],
   "source": [
    "# isnumeric function is used  to only numbers values\n",
    "\n",
    "\n",
    "int='965245'\n",
    "int1='hai143'\n",
    "\n",
    "print(int.isnumeric())\n",
    "print(int1.isnumeric())"
   ]
  },
  {
   "cell_type": "code",
   "execution_count": 28,
   "id": "b4bf85e8",
   "metadata": {},
   "outputs": [
    {
     "name": "stdout",
     "output_type": "stream",
     "text": [
      "True\n",
      "False\n"
     ]
    }
   ],
   "source": [
    "#isalpha functions is used to only Alphabets\n",
    "\n",
    "name='sandeep'\n",
    "name1='hari123'\n",
    "\n",
    "print(name.isalpha())\n",
    "print(name1.isalpha())"
   ]
  },
  {
   "cell_type": "code",
   "execution_count": 29,
   "id": "17914446",
   "metadata": {},
   "outputs": [
    {
     "name": "stdout",
     "output_type": "stream",
     "text": [
      "devijetti jatijh\n"
     ]
    }
   ],
   "source": [
    "# replace\n",
    "\n",
    "a='devisetti satish'\n",
    "a=a.replace('s','j')\n",
    "print(a)"
   ]
  },
  {
   "cell_type": "code",
   "execution_count": 31,
   "id": "09b4a1d2",
   "metadata": {},
   "outputs": [
    {
     "name": "stdout",
     "output_type": "stream",
     "text": [
      "True\n"
     ]
    }
   ],
   "source": [
    "#isalnum\n",
    "\n",
    "T='swathi12'\n",
    "print(T.isalnum())"
   ]
  },
  {
   "cell_type": "code",
   "execution_count": 33,
   "id": "48dee676",
   "metadata": {},
   "outputs": [
    {
     "name": "stdout",
     "output_type": "stream",
     "text": [
      "13\n"
     ]
    }
   ],
   "source": [
    "# length\n",
    "\n",
    "mystring=\"data analysis\"\n",
    "print(len(mystring))"
   ]
  },
  {
   "cell_type": "code",
   "execution_count": 34,
   "id": "d21e234d",
   "metadata": {},
   "outputs": [
    {
     "name": "stdout",
     "output_type": "stream",
     "text": [
      "3\n"
     ]
    }
   ],
   "source": [
    "# count\n",
    "nam='kiran,hai,hari'\n",
    "print(nam.count('a'))"
   ]
  },
  {
   "cell_type": "code",
   "execution_count": 35,
   "id": "438e2d37",
   "metadata": {},
   "outputs": [
    {
     "name": "stdout",
     "output_type": "stream",
     "text": [
      "3\n"
     ]
    }
   ],
   "source": [
    "# index\n",
    "ind='kirankumar'\n",
    "print(ind.index('a'))"
   ]
  },
  {
   "cell_type": "code",
   "execution_count": null,
   "id": "7e454519",
   "metadata": {},
   "outputs": [],
   "source": []
  }
 ],
 "metadata": {
  "kernelspec": {
   "display_name": "Python 3 (ipykernel)",
   "language": "python",
   "name": "python3"
  },
  "language_info": {
   "codemirror_mode": {
    "name": "ipython",
    "version": 3
   },
   "file_extension": ".py",
   "mimetype": "text/x-python",
   "name": "python",
   "nbconvert_exporter": "python",
   "pygments_lexer": "ipython3",
   "version": "3.11.5"
  }
 },
 "nbformat": 4,
 "nbformat_minor": 5
}
